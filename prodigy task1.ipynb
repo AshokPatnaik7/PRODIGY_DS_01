{
 "cells": [
  {
   "cell_type": "code",
   "execution_count": 1,
   "id": "ee617a7e-c47a-49b8-bfc9-8369b99b8267",
   "metadata": {},
   "outputs": [
    {
     "name": "stdout",
     "output_type": "stream",
     "text": [
      "Requirement already satisfied: pandas in c:\\users\\vamsi\\appdata\\local\\programs\\python\\python312\\lib\\site-packages (2.2.0)\n",
      "Requirement already satisfied: matplotlib in c:\\users\\vamsi\\appdata\\local\\programs\\python\\python312\\lib\\site-packages (3.10.0)\n",
      "Requirement already satisfied: numpy<2,>=1.26.0 in c:\\users\\vamsi\\appdata\\local\\programs\\python\\python312\\lib\\site-packages (from pandas) (1.26.3)\n",
      "Requirement already satisfied: python-dateutil>=2.8.2 in c:\\users\\vamsi\\appdata\\local\\programs\\python\\python312\\lib\\site-packages (from pandas) (2.8.2)\n",
      "Requirement already satisfied: pytz>=2020.1 in c:\\users\\vamsi\\appdata\\local\\programs\\python\\python312\\lib\\site-packages (from pandas) (2023.3.post1)\n",
      "Requirement already satisfied: tzdata>=2022.7 in c:\\users\\vamsi\\appdata\\local\\programs\\python\\python312\\lib\\site-packages (from pandas) (2023.4)\n",
      "Requirement already satisfied: contourpy>=1.0.1 in c:\\users\\vamsi\\appdata\\local\\programs\\python\\python312\\lib\\site-packages (from matplotlib) (1.3.1)\n",
      "Requirement already satisfied: cycler>=0.10 in c:\\users\\vamsi\\appdata\\local\\programs\\python\\python312\\lib\\site-packages (from matplotlib) (0.12.1)\n",
      "Requirement already satisfied: fonttools>=4.22.0 in c:\\users\\vamsi\\appdata\\local\\programs\\python\\python312\\lib\\site-packages (from matplotlib) (4.55.3)\n",
      "Requirement already satisfied: kiwisolver>=1.3.1 in c:\\users\\vamsi\\appdata\\local\\programs\\python\\python312\\lib\\site-packages (from matplotlib) (1.4.7)\n",
      "Requirement already satisfied: packaging>=20.0 in c:\\users\\vamsi\\appdata\\local\\programs\\python\\python312\\lib\\site-packages (from matplotlib) (23.2)\n",
      "Requirement already satisfied: pillow>=8 in c:\\users\\vamsi\\appdata\\local\\programs\\python\\python312\\lib\\site-packages (from matplotlib) (11.0.0)\n",
      "Requirement already satisfied: pyparsing>=2.3.1 in c:\\users\\vamsi\\appdata\\local\\programs\\python\\python312\\lib\\site-packages (from matplotlib) (3.2.0)\n",
      "Requirement already satisfied: six>=1.5 in c:\\users\\vamsi\\appdata\\local\\programs\\python\\python312\\lib\\site-packages (from python-dateutil>=2.8.2->pandas) (1.16.0)\n",
      "Note: you may need to restart the kernel to use updated packages.\n"
     ]
    },
    {
     "name": "stderr",
     "output_type": "stream",
     "text": [
      "\n",
      "[notice] A new release of pip is available: 24.3.1 -> 25.0\n",
      "[notice] To update, run: python.exe -m pip install --upgrade pip\n"
     ]
    }
   ],
   "source": [
    "pip install pandas matplotlib\n"
   ]
  },
  {
   "cell_type": "code",
   "execution_count": 6,
   "id": "83fc8fb7-b50d-4106-ac6e-8482a7fcb1d4",
   "metadata": {},
   "outputs": [
    {
     "name": "stdout",
     "output_type": "stream",
     "text": [
      "Files inside ZIP: ['Metadata_Indicator_API_SP.POP.TOTL_DS2_en_csv_v2_87.csv', 'API_SP.POP.TOTL_DS2_en_csv_v2_87.csv', 'Metadata_Country_API_SP.POP.TOTL_DS2_en_csv_v2_87.csv']\n"
     ]
    }
   ],
   "source": [
    "import zipfile\n",
    "\n",
    "zip_path = r'C:\\Users\\vamsi\\Downloads\\API_SP.POP.TOTL_DS2_en_csv_v2_87.zip'\n",
    "\n",
    "# List all files in the ZIP\n",
    "with zipfile.ZipFile(zip_path, 'r') as z:\n",
    "    file_list = z.namelist()\n",
    "    print(\"Files inside ZIP:\", file_list)\n"
   ]
  },
  {
   "cell_type": "code",
   "execution_count": 9,
   "id": "07fc8d4a-d6fa-412b-b591-0fdec5c27426",
   "metadata": {},
   "outputs": [
    {
     "name": "stdout",
     "output_type": "stream",
     "text": [
      "                  Country Name Country Code     Indicator Name Indicator Code  \\\n",
      "0                        Aruba          ABW  Population, total    SP.POP.TOTL   \n",
      "1  Africa Eastern and Southern          AFE  Population, total    SP.POP.TOTL   \n",
      "2                  Afghanistan          AFG  Population, total    SP.POP.TOTL   \n",
      "3   Africa Western and Central          AFW  Population, total    SP.POP.TOTL   \n",
      "4                       Angola          AGO  Population, total    SP.POP.TOTL   \n",
      "\n",
      "          1960         1961         1962         1963         1964  \\\n",
      "0      54922.0      55578.0      56320.0      57002.0      57619.0   \n",
      "1  130072080.0  133534923.0  137171659.0  140945536.0  144904094.0   \n",
      "2    9035043.0    9214083.0    9404406.0    9604487.0    9814318.0   \n",
      "3   97630925.0   99706674.0  101854756.0  104089175.0  106388440.0   \n",
      "4    5231654.0    5301583.0    5354310.0    5408320.0    5464187.0   \n",
      "\n",
      "          1965  ...         2015         2016         2017         2018  \\\n",
      "0      58190.0  ...     107906.0     108727.0     108735.0     108908.0   \n",
      "1  149033472.0  ...  607123269.0  623369401.0  640058741.0  657801085.0   \n",
      "2   10036008.0  ...   33831764.0   34700612.0   35688935.0   36743039.0   \n",
      "3  108772632.0  ...  418127845.0  429454743.0  440882906.0  452195915.0   \n",
      "4    5521981.0  ...   28157798.0   29183070.0   30234839.0   31297155.0   \n",
      "\n",
      "          2019         2020         2021         2022         2023  \\\n",
      "0     109203.0     108587.0     107700.0     107310.0     107359.0   \n",
      "1  675950189.0  694446100.0  713090928.0  731821393.0  750503764.0   \n",
      "2   37856121.0   39068979.0   40000412.0   40578842.0   41454761.0   \n",
      "3  463365429.0  474569351.0  485920997.0  497387180.0  509398589.0   \n",
      "4   32375632.0   33451132.0   34532429.0   35635029.0   36749906.0   \n",
      "\n",
      "   Unnamed: 68  \n",
      "0          NaN  \n",
      "1          NaN  \n",
      "2          NaN  \n",
      "3          NaN  \n",
      "4          NaN  \n",
      "\n",
      "[5 rows x 69 columns]\n"
     ]
    }
   ],
   "source": [
    "import pandas as pd\n",
    "import zipfile\n",
    "\n",
    "# Define the ZIP file path\n",
    "zip_path = r'C:\\Users\\vamsi\\Downloads\\API_SP.POP.TOTL_DS2_en_csv_v2_87.zip'\n",
    "csv_filename = 'API_SP.POP.TOTL_DS2_en_csv_v2_87.csv'  # Main data file\n",
    "\n",
    "# Open ZIP and read CSV\n",
    "with zipfile.ZipFile(zip_path, 'r') as z:\n",
    "    with z.open(csv_filename) as file:\n",
    "        df = pd.read_csv(file, skiprows=4)\n",
    "\n",
    "# Display first few rows\n",
    "print(df.head())\n"
   ]
  },
  {
   "cell_type": "code",
   "execution_count": 10,
   "id": "38ef997c-24ae-4f96-9bb7-d831e44210a8",
   "metadata": {},
   "outputs": [
    {
     "name": "stdout",
     "output_type": "stream",
     "text": [
      "Empty DataFrame\n",
      "Columns: [Country, Population]\n",
      "Index: []\n"
     ]
    }
   ],
   "source": [
    "# Identify the most recent year column\n",
    "most_recent_year = df.columns[-1]  # Last column is usually the latest year\n",
    "\n",
    "# Keep only relevant columns\n",
    "df = df[['Country Name', most_recent_year]].dropna()\n",
    "\n",
    "# Rename columns for better readability\n",
    "df.columns = ['Country', 'Population']\n",
    "\n",
    "# Convert population to numeric\n",
    "df['Population'] = pd.to_numeric(df['Population'], errors='coerce')\n",
    "\n",
    "# Drop any invalid values\n",
    "df = df.dropna()\n",
    "\n",
    "# Display cleaned data\n",
    "print(df.head())\n"
   ]
  },
  {
   "cell_type": "code",
   "execution_count": 11,
   "id": "a7cfff1e-8e70-4455-bff3-aeda1dc5400d",
   "metadata": {},
   "outputs": [
    {
     "name": "stderr",
     "output_type": "stream",
     "text": [
      "C:\\Users\\vamsi\\AppData\\Local\\Programs\\Python\\Python312\\Lib\\site-packages\\IPython\\core\\pylabtools.py:152: UserWarning: Data has no positive values, and therefore cannot be log-scaled.\n",
      "  fig.canvas.print_figure(bytes_io, **kw)\n"
     ]
    },
    {
     "data": {
      "image/png": "[encoded data removed]",
      "text/plain": [
       "<Figure size 1000x600 with 1 Axes>"
      ]
     },
     "metadata": {},
     "output_type": "display_data"
    }
   ],
   "source": [
    "import matplotlib.pyplot as plt\n",
    "\n",
    "# Plot histogram\n",
    "plt.figure(figsize=(10, 6))\n",
    "plt.hist(df['Population'], bins=30, edgecolor='black', log=True)  # Log scale for better visibility\n",
    "\n",
    "# Customize the chart\n",
    "plt.title('Log-Scaled Distribution of Population Sizes Across Countries')\n",
    "plt.xlabel('Population (Log Scale)')\n",
    "plt.ylabel('Number of Countries')\n",
    "plt.grid(True)\n",
    "\n",
    "# Show the plot\n",
    "plt.show()\n"
   ]
  },
  {
   "cell_type": "code",
   "execution_count": null,
   "id": "67619359-ee97-499a-ab09-9447de8d7799",
   "metadata": {},
   "outputs": [],
   "source": []
  }
 ],
 "metadata": {
  "kernelspec": {
   "display_name": "Python 3 (ipykernel)",
   "language": "python",
   "name": "python3"
  },
  "language_info": {
   "codemirror_mode": {
    "name": "ipython",
    "version": 3
   },
   "file_extension": ".py",
   "mimetype": "text/x-python",
   "name": "python",
   "nbconvert_exporter": "python",
   "pygments_lexer": "ipython3",
   "version": "3.12.2"
  }
 },
 "nbformat": 4,
 "nbformat_minor": 5
}
